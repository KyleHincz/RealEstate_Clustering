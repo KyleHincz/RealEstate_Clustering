{
 "cells": [
  {
   "cell_type": "code",
   "execution_count": null,
   "id": "acdbd05f",
   "metadata": {},
   "outputs": [],
   "source": [
    "import numpy as np  \n",
    "import pandas as pd  \n",
    "\n",
    "import matplotlib.pyplot as plt # For plots\n",
    "from sklearn.model_selection import train_test_split\n",
    "import seaborn as sns\n",
    "import pickle\n",
    "pd.set_option('display.max_columns', None)"
   ]
  },
  {
   "cell_type": "markdown",
   "id": "21576b92",
   "metadata": {},
   "source": [
    "## Read in dataframes"
   ]
  },
  {
   "cell_type": "code",
   "execution_count": null,
   "id": "e9a1ccc6",
   "metadata": {},
   "outputs": [],
   "source": [
    "%%time\n",
    "df_appraisal_in = pd.read_pickle(\"./OUT_dfs/df_appr_full_processed.pkl\")\n",
    "df_comparable_in = pd.read_pickle(\"./OUT_dfs/df_comp_full_processed.pkl\")\n",
    "\n",
    "print(\"Appriasal Shape\", df_appraisal_in.shape)\n",
    "print(\"Comp Shape\", df_comparable_in.shape)\n",
    "\n",
    "\n",
    "### columns not migrated yet are:\n",
    "\n",
    "special_columns = [ 'DESIGNSTYLE_SUBJ', 'HEATINGCOOLING_SUBJ', 'ENERGYEFF_SUBJ',\n",
    "       'GARAGECARPORT_SUBJ', 'PORCHPATIODECK_SUBJ' ]\n"
   ]
  },
  {
   "cell_type": "code",
   "execution_count": null,
   "id": "d8b9a265",
   "metadata": {},
   "outputs": [],
   "source": [
    "for c, a in zip(df_comparable_in.columns, df_appraisal_in.columns):\n",
    "    if c!=a:\n",
    "        print(c+\"///\"+a)\n",
    "\n",
    "df_comp = df_comparable_in.copy()\n",
    "df_appr = df_appraisal_in.copy()"
   ]
  },
  {
   "cell_type": "code",
   "execution_count": null,
   "id": "8f1491d7",
   "metadata": {},
   "outputs": [],
   "source": [
    "# Quick fix for strings in Lat and Long\n",
    "df_comp['APPRLATITUDE'] = pd.to_numeric(df_comp['APPRLATITUDE'],errors='coerce')\n",
    "df_comp['APPRLONGITUDE'] = pd.to_numeric(df_comp['APPRLONGITUDE'],errors='coerce')\n",
    "df_appr['APPRLATITUDE'] = pd.to_numeric(df_appr['APPRLATITUDE'],errors='coerce')\n",
    "df_appr['APPRLONGITUDE'] = pd.to_numeric(df_appr['APPRLONGITUDE'],errors='coerce')"
   ]
  },
  {
   "cell_type": "code",
   "execution_count": null,
   "id": "3306770c",
   "metadata": {},
   "outputs": [],
   "source": [
    "pd.set_option('max_info_rows', 200)\n",
    "df_comp.info()\n"
   ]
  },
  {
   "cell_type": "code",
   "execution_count": null,
   "id": "6c65529d",
   "metadata": {},
   "outputs": [],
   "source": [
    "# print datatypes\n",
    "print(\"Comp data types\\n\")\n",
    "print(df_comp.dtypes.value_counts())\n",
    "\n",
    "print(\"\\nAppr data types\\n\")\n",
    "print(df_appr.dtypes.value_counts())\n"
   ]
  },
  {
   "cell_type": "markdown",
   "id": "03a1e728",
   "metadata": {},
   "source": [
    "## Checking NA percentages\n",
    "\n",
    "13-15% Null and 0 values identified in lattitude and longitude. This is potentially an issue. Need to double check if this is right. Remaining NA values are negligible in occurence. Could remove all rows with any nans in them."
   ]
  },
  {
   "cell_type": "code",
   "execution_count": null,
   "id": "ada32c4e",
   "metadata": {},
   "outputs": [],
   "source": [
    "\n",
    "pd.set_option('display.max_rows', None)\n",
    "counts_a =  df_appr.isna().sum()\n",
    "percs_a = (counts_a/df_appr.shape[0]).mul(100).round(3).astype(str) + '%'\n",
    "\n",
    "counts_c =  df_comp.isna().sum()\n",
    "percs_c = (counts_c/df_comp.shape[0]).mul(100).round(3).astype(str) + '%'\n",
    "\n",
    "pd.concat([counts_a,percs_a, counts_c, percs_c], \n",
    "          axis=1, keys=['na_count_a', 'na_perc_a','na_count_c', 'na_perc_c']).sort_values(['na_perc_a','na_perc_c'], ascending=False)"
   ]
  },
  {
   "cell_type": "markdown",
   "id": "125d30b7",
   "metadata": {},
   "source": [
    "# Drop rows with NA values\n"
   ]
  },
  {
   "cell_type": "code",
   "execution_count": null,
   "id": "d38b3893",
   "metadata": {},
   "outputs": [],
   "source": [
    "def remove_na_rows_from_both_dataframes(appaisal_dataframe, comparables_dataframe):\n",
    "    remove_nas_from_these_comp_columns = ['APPRLONGITUDE', 'APPRLATITUDE', 'COMPSALEDATE',\"ACTUALAGE\",\"BDRM\", \"TOTALRM\",\n",
    "                                       \"SITEAREASQFT\",\"FULL_BATH\" , \"HALF_BATH\",\"COUNTY\",\"GROSSLIVINGAREA\"]\n",
    "    dfc = comparables_dataframe.dropna(axis=0, subset=remove_nas_from_these_comp_columns)\n",
    "    #dfc.isna().sum()\n",
    "    \n",
    "    #remove zeros form lat and long\n",
    "    dfc = dfc.loc[(dfc[['APPRLONGITUDE', 'APPRLATITUDE']] != 0).any(axis=1)]\n",
    "    \n",
    "    remove_nas_from_these_appr_columns = ['APPRLONGITUDE', 'APPRLATITUDE', 'SALEDATE',\"ACTUALAGE\",\"BDRM\", \"TOTALRM\",\n",
    "                                       \"SITEAREASQFT\",\"FULL_BATH\" , \"HALF_BATH\",\"COUNTY\",\"GROSSLIVINGAREA\"]\n",
    "    dfa = appaisal_dataframe.dropna(axis=0, subset=remove_nas_from_these_appr_columns)\n",
    "    #dfa.isna().sum()\n",
    "    dfa = dfa.loc[(dfa[['APPRLONGITUDE', 'APPRLATITUDE']] != 0).any(axis=1)]\n",
    "    dfa[\"compcount\"] = dfa['SUBJ_APPR_ID'].map(dfc['SUBJ_APPR_ID'].value_counts()).fillna(0)\n",
    "    dfaa = dfa[(dfa['compcount']==3)]# keep only rows with all 3 comparables\n",
    "    dfcc = dfc[dfc['SUBJ_APPR_ID'].isin(dfaa[\"SUBJ_APPR_ID\"])]#keep only rows that remain in appraisal df\n",
    "    dfaa.drop('compcount', axis=1, inplace=True)\n",
    "    print(dfaa.shape)\n",
    "    print(dfcc.shape)\n",
    "    return dfaa, dfcc"
   ]
  },
  {
   "cell_type": "code",
   "execution_count": null,
   "id": "9844359c",
   "metadata": {
    "scrolled": true
   },
   "outputs": [],
   "source": [
    "df_appr_nona, df_comp_nona =  remove_na_rows_from_both_dataframes(df_appr, df_comp)"
   ]
  },
  {
   "cell_type": "code",
   "execution_count": null,
   "id": "44076afd",
   "metadata": {},
   "outputs": [],
   "source": [
    "#save dataframes with no na values to pickle files\n",
    "df_comp_nona[\"SALEDATE\"]=df_comp_nona[\"COMPSALEDATE\"]\n",
    "df_appr_nona.to_pickle(\"./OUT_dfs/df_appr_full_processed_nona.pkl\")\n",
    "df_comp_nona.to_pickle(\"./OUT_dfs/df_comp_full_processed_nona.pkl\")"
   ]
  },
  {
   "cell_type": "markdown",
   "id": "33e11a31",
   "metadata": {},
   "source": [
    "## Quick comparison table of one record - specify appraisal ID"
   ]
  },
  {
   "cell_type": "code",
   "execution_count": null,
   "id": "c8cf6f9b",
   "metadata": {},
   "outputs": [],
   "source": [
    "def get_comparables(aID, dfs= [df_appr_nona, df_comp_nona],all_columns=False):\n",
    "    df1 = dfs[0].loc[dfs[0]['SUBJ_APPR_ID'] == aID]\n",
    "    df2 = dfs[1].loc[dfs[1]['SUBJ_APPR_ID'] == aID]\n",
    "    df3 = pd.concat([df1,df2],axis=0).transpose()\n",
    "    if all_columns==False:\n",
    "        return df3.loc[(df3!=0).any(axis=1)]\n",
    "    else: \n",
    "        return df3\n",
    "\n",
    "get_comparables(857135,dfs= [df_appr_nona, df_comp_nona],all_columns=False)\n"
   ]
  },
  {
   "cell_type": "markdown",
   "id": "71277308",
   "metadata": {},
   "source": [
    "## Quick comparison table of one record - specify appraisal ID"
   ]
  },
  {
   "cell_type": "code",
   "execution_count": null,
   "id": "b4d2f81a",
   "metadata": {},
   "outputs": [],
   "source": [
    "def get_comparables(aID, dfs= [df_appr_nona, df_comp_nona],all_columns=False):\n",
    "    df1 = dfs[0].loc[dfs[0]['SUBJ_APPR_ID'] == aID]\n",
    "    df2 = dfs[1].loc[dfs[1]['SUBJ_APPR_ID'] == aID]\n",
    "    df3 = pd.concat([df1,df2],axis=0).transpose()\n",
    "    if all_columns==False:\n",
    "        return df3.loc[(df3!=0).any(axis=1)]\n",
    "    else: \n",
    "        return df3\n",
    "\n",
    "get_comparables(857135,dfs= [df_appr_nona, df_comp_nona],all_columns=False)\n"
   ]
  },
  {
   "cell_type": "markdown",
   "id": "cc8173a5",
   "metadata": {},
   "source": [
    "## Basic plotting"
   ]
  },
  {
   "cell_type": "code",
   "execution_count": null,
   "id": "18849010",
   "metadata": {},
   "outputs": [],
   "source": [
    "def my_countplot(col, df_list):\n",
    "    for dataframe in df_list:\n",
    "        sns.countplot(x=col,data=dataframe,order = dataframe[col].value_counts().index).set(title= col)\n",
    "        plt.show()\n",
    "    "
   ]
  },
  {
   "cell_type": "code",
   "execution_count": null,
   "id": "b79930e4",
   "metadata": {},
   "outputs": [],
   "source": [
    "my_countplot(\"STATE\", [df_appr_nona, df_comp_nona])\n",
    "    "
   ]
  }
 ],
 "metadata": {
  "kernelspec": {
   "display_name": "Python 3 (ipykernel)",
   "language": "python",
   "name": "python3"
  },
  "language_info": {
   "codemirror_mode": {
    "name": "ipython",
    "version": 3
   },
   "file_extension": ".py",
   "mimetype": "text/x-python",
   "name": "python",
   "nbconvert_exporter": "python",
   "pygments_lexer": "ipython3",
   "version": "3.9.7"
  }
 },
 "nbformat": 4,
 "nbformat_minor": 5
}
