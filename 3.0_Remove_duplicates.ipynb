{
 "cells": [
  {
   "cell_type": "code",
   "execution_count": null,
   "id": "ddbfe89d",
   "metadata": {},
   "outputs": [],
   "source": [
    "import pandas as pd\n",
    "import pickle"
   ]
  },
  {
   "cell_type": "code",
   "execution_count": null,
   "id": "10f598bd",
   "metadata": {},
   "outputs": [],
   "source": [
    "df_comp_nona = pd.read_pickle(\"./OUT_dfs/df_comp_full_processed_nona.pkl\")\n",
    "df_appr_nona = pd.read_pickle(\"./OUT_dfs/df_appr_full_processed_nona.pkl\")\n",
    "df_a = df_appr_nona.copy()\n",
    "df_c = df_comp_nona.copy()"
   ]
  },
  {
   "cell_type": "markdown",
   "id": "124012da",
   "metadata": {},
   "source": [
    "# Create unique comp ID"
   ]
  },
  {
   "cell_type": "code",
   "execution_count": null,
   "id": "4edc852f",
   "metadata": {},
   "outputs": [],
   "source": [
    "comp_columns_to_look_for_duplicates_in = ['ADDRESS1', 'CITY', 'STATE', 'ZIPCODE',\"SALEDATE\"]\n",
    "new_id = df_c.groupby(comp_columns_to_look_for_duplicates_in).ngroup()\n",
    "df_c.insert(2, 'UNIQUECOMPIDNEW', new_id)"
   ]
  },
  {
   "cell_type": "code",
   "execution_count": null,
   "id": "634f47ed",
   "metadata": {},
   "outputs": [],
   "source": [
    "uniqueRows = df_c.drop_duplicates(subset=[\"UNIQUECOMPIDNEW\"])"
   ]
  },
  {
   "cell_type": "markdown",
   "id": "b000ea70",
   "metadata": {},
   "source": [
    "# Create a mapping dictionary"
   ]
  },
  {
   "cell_type": "code",
   "execution_count": null,
   "id": "578341e1",
   "metadata": {},
   "outputs": [],
   "source": [
    "dict_apprid_to_uniquecompidnew = df_c.groupby('SUBJ_APPR_ID')['UNIQUECOMPIDNEW'].apply(list).to_dict()\n"
   ]
  },
  {
   "cell_type": "code",
   "execution_count": null,
   "id": "58c18d5f",
   "metadata": {},
   "outputs": [],
   "source": [
    "# save pickle dictionary file\n",
    "pickle.dump(dict_apprid_to_uniquecompidnew, open(\"./OUT_dfs/dict_apprid_to_uniquecompidnew\", \"wb\"))\n",
    "# to load :\n",
    "#dict_apprid_to_uniquecompidnew = pickle.load(open(\"./OUT_dfs/dict_apprid_to_uniquecompidnew\", \"wb\"))"
   ]
  },
  {
   "cell_type": "code",
   "execution_count": null,
   "id": "13b86d08",
   "metadata": {},
   "outputs": [],
   "source": [
    "dict_apprid_to_uniquecompidnew[857100]"
   ]
  },
  {
   "cell_type": "markdown",
   "id": "1c559ee8",
   "metadata": {},
   "source": [
    "# Remove duplicate rows from  from Comp dataframe to get a proper X dataframe for unsupervised learning"
   ]
  },
  {
   "cell_type": "code",
   "execution_count": null,
   "id": "a15b18e9",
   "metadata": {},
   "outputs": [],
   "source": [
    "uniqueComps = df_c.drop_duplicates(subset=[\"UNIQUECOMPIDNEW\"])"
   ]
  },
  {
   "cell_type": "code",
   "execution_count": null,
   "id": "dd1aaa00",
   "metadata": {},
   "outputs": [],
   "source": [
    "uniqueComps.to_pickle(\"./OUT_dfs/uniqueComps.pkl\")"
   ]
  }
 ],
 "metadata": {
  "kernelspec": {
   "display_name": "Python 3 (ipykernel)",
   "language": "python",
   "name": "python3"
  },
  "language_info": {
   "codemirror_mode": {
    "name": "ipython",
    "version": 3
   },
   "file_extension": ".py",
   "mimetype": "text/x-python",
   "name": "python",
   "nbconvert_exporter": "python",
   "pygments_lexer": "ipython3",
   "version": "3.9.7"
  }
 },
 "nbformat": 4,
 "nbformat_minor": 5
}
