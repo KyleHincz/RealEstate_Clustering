{
 "cells": [
  {
   "cell_type": "code",
   "execution_count": null,
   "id": "d252c876",
   "metadata": {},
   "outputs": [],
   "source": [
    "import numpy as np\n",
    "import pickle\n",
    "import pandas as pd \n",
    "from scipy import spatial\n",
    "from sklearn.neighbors import KDTree, BallTree\n",
    "pd.set_option('display.max_columns', None)\n",
    "\n",
    "from sklearn.preprocessing import MinMaxScaler, StandardScaler, RobustScaler\n",
    "from scipy.spatial import distance\n",
    "import matplotlib.pyplot as plt                   # For graphics\n",
    "import seaborn as sns"
   ]
  },
  {
   "cell_type": "code",
   "execution_count": null,
   "id": "f376624a",
   "metadata": {},
   "outputs": [],
   "source": [
    "#df_comp_nona = pd.read_pickle(\"./OUT_dfs/df_comp_full_processed_nona.pkl\")\n",
    "#df_c = df_comp_nona.copy()\n",
    "\n",
    "df_appr_nona = pd.read_pickle(\"./OUT_dfs/df_appr_full_processed_nona.pkl\")#\n",
    "df_a = df_appr_nona.copy()\n",
    "\n",
    "dict_apprid_to_uniquecompidnew = pickle.load(open(\"./OUT_dfs/dict_apprid_to_uniquecompidnew\", \"rb\"))\n",
    "uniqueComps = pd.read_pickle(\"./OUT_dfs/uniqueComps.pkl\")"
   ]
  },
  {
   "cell_type": "code",
   "execution_count": null,
   "id": "d8b2f5cd",
   "metadata": {},
   "outputs": [],
   "source": [
    "uniqueComps.columns"
   ]
  },
  {
   "cell_type": "code",
   "execution_count": null,
   "id": "f0e5def9",
   "metadata": {},
   "outputs": [],
   "source": [
    "test_appr = 857133\n",
    "test_comps_newids = dict_apprid_to_uniquecompidnew[test_appr]"
   ]
  },
  {
   "cell_type": "markdown",
   "id": "88e77cf5",
   "metadata": {},
   "source": [
    "# Calculate distance in time and space from test row"
   ]
  },
  {
   "cell_type": "code",
   "execution_count": null,
   "id": "7650de48",
   "metadata": {},
   "outputs": [],
   "source": [
    "def calculate_time_and_space_difference(chosen_appr_id, appr_dataframe, comp_dataframe, minimum_days_from_appr, distance_measure=\"cityblock\"):\n",
    "    test_row = appr_dataframe[appr_dataframe[\"SUBJ_APPR_ID\"]==chosen_appr_id]\n",
    "    #time difference\n",
    "    test_row[\"DATEDIFF\"] = -minimum_days_from_appr\n",
    "    comp_dataframe[\"DATEDIFF\"] = comp_dataframe[\"SALEDATE\"] - test_row[\"SALEDATE\"].values[0]\n",
    "    comp_dataframe[\"DATEDIFF\"] = comp_dataframe[\"DATEDIFF\"]/ np.timedelta64(1, 'D')\n",
    "    \n",
    "    #space difference\n",
    "    test_row[\"DISTANCEDIFF\"]=0\n",
    "    test_row_dist = np.array([test_row[\"APPRLATITUDE\"].values[0],test_row[\"APPRLONGITUDE\"].values[0]])\n",
    "    comp_dataframe[\"DISTANCEDIFF\"] = distance.cdist(np.array(comp_dataframe[[\"APPRLATITUDE\",\"APPRLONGITUDE\"]]),\n",
    "                                           test_row_dist[None,],\n",
    "                                          distance_measure)\n",
    "    return comp_dataframe, test_row"
   ]
  },
  {
   "cell_type": "code",
   "execution_count": null,
   "id": "2b6368d4",
   "metadata": {},
   "outputs": [],
   "source": [
    "uniqueComps2, y2 = calculate_time_and_space_difference(chosen_appr_id=test_appr, \n",
    "                                       appr_dataframe=df_a, \n",
    "                                       comp_dataframe=uniqueComps, \n",
    "                                       minimum_days_from_appr=60,\n",
    "                                                distance_measure=\"cityblock\")"
   ]
  },
  {
   "cell_type": "code",
   "execution_count": null,
   "id": "18dbc602",
   "metadata": {},
   "outputs": [],
   "source": [
    "# Calculate significant correlations\n",
    "cm = uniqueComps2.drop(['ZIPCODE', 'STATE',\"SALEDATE\",\"COMPSALEDATE\",\"COUNTY\",\"CITY\",\"ADDRESS1\",\n",
    "                                                  \"UNIQUECOMPIDNEW\",\"COMPNUM\",\"SUBJ_APPR_ID\", ], axis=1).corr().unstack().sort_values().drop_duplicates()"
   ]
  },
  {
   "cell_type": "code",
   "execution_count": null,
   "id": "27db9462",
   "metadata": {},
   "outputs": [],
   "source": [
    "cm.head(10)"
   ]
  },
  {
   "cell_type": "code",
   "execution_count": null,
   "id": "949da8e6",
   "metadata": {},
   "outputs": [],
   "source": [
    "cm.tail(25)"
   ]
  }
 ],
 "metadata": {
  "kernelspec": {
   "display_name": "Python 3 (ipykernel)",
   "language": "python",
   "name": "python3"
  },
  "language_info": {
   "codemirror_mode": {
    "name": "ipython",
    "version": 3
   },
   "file_extension": ".py",
   "mimetype": "text/x-python",
   "name": "python",
   "nbconvert_exporter": "python",
   "pygments_lexer": "ipython3",
   "version": "3.9.7"
  }
 },
 "nbformat": 4,
 "nbformat_minor": 5
}
