{
 "cells": [
  {
   "cell_type": "code",
   "execution_count": null,
   "id": "d020193d",
   "metadata": {},
   "outputs": [],
   "source": [
    "# Source: https://www.vibhuagrawal.com/blog/geospatial-nearest-neighbor-search"
   ]
  },
  {
   "cell_type": "code",
   "execution_count": null,
   "id": "e62df8fc",
   "metadata": {},
   "outputs": [],
   "source": [
    "import pandas as pd\n",
    "import numpy as np\n",
    "from sklearn.neighbors import BallTree\n",
    "import pickle\n",
    "\n",
    "import random\n",
    "\n",
    "R = 6371008.7714\n",
    "import seaborn as sns\n",
    "import matplotlib.pyplot as plt"
   ]
  },
  {
   "cell_type": "code",
   "execution_count": null,
   "id": "32c3f4d6",
   "metadata": {},
   "outputs": [],
   "source": [
    "def haversine_distance(lat_1, lon_1, lat_2, lon_2):\n",
    "    return 2 * R * (np.arcsin((np.sin((lat_2 - lat_1) / 2) ** 2 + \\\n",
    "                               np.cos(lat_1) * np.cos(lat_2) * \\\n",
    "                               np.sin((lon_2 - lon_1) / 2) ** 2) ** 0.5))"
   ]
  },
  {
   "cell_type": "code",
   "execution_count": null,
   "id": "7a4fb451",
   "metadata": {},
   "outputs": [],
   "source": [
    "\n",
    "df_appr_nona = pd.read_pickle(\"./OUT_dfs/df_appr_full_processed_nona.pkl\")#\n",
    "df_a = df_appr_nona.copy()\n",
    "\n",
    "dict_apprid_to_uniquecompidnew = pickle.load(open(\"./OUT_dfs/dict_apprid_to_uniquecompidnew\", \"rb\"))\n",
    "uniqueComps = pd.read_pickle(\"./OUT_dfs/uniqueComps.pkl\")\n",
    "\n",
    "d_list = list(dict_apprid_to_uniquecompidnew.items())\n",
    "uniqueComps.columns"
   ]
  },
  {
   "cell_type": "code",
   "execution_count": null,
   "id": "b23aa17d",
   "metadata": {},
   "outputs": [],
   "source": [
    "df_aa = df_appr_nona.copy()\n",
    "df_aa[['_COMP_ID1', '_COMP_ID2', '_COMP_ID3']] = df_aa['SUBJ_APPR_ID'].apply(lambda x: pd.Series(dict_apprid_to_uniquecompidnew[x]))\n"
   ]
  },
  {
   "cell_type": "markdown",
   "id": "907a8e16",
   "metadata": {},
   "source": [
    "# Calculate distances from appraisal to each of its comps"
   ]
  },
  {
   "cell_type": "code",
   "execution_count": null,
   "id": "43220a85",
   "metadata": {
    "scrolled": false
   },
   "outputs": [],
   "source": [
    "df_a = df_aa.copy()\n",
    "df_a.shape"
   ]
  },
  {
   "cell_type": "code",
   "execution_count": null,
   "id": "cdf1e49b",
   "metadata": {},
   "outputs": [],
   "source": [
    "# comp 1\n",
    "df_temp_11 = uniqueComps[[ \"UNIQUECOMPIDNEW\",'APPRLATITUDE', 'APPRLONGITUDE']]\\\n",
    ".rename(columns={'UNIQUECOMPIDNEW': '_COMP_ID1','APPRLATITUDE': '_COMP1_LAT', 'APPRLONGITUDE': '_COMP1_LON'})\n",
    "df_a = df_a.merge(df_temp_11, on='_COMP_ID1', how='left')\n",
    "# comp 2\n",
    "df_temp_11 = uniqueComps[[ \"UNIQUECOMPIDNEW\",'APPRLATITUDE', 'APPRLONGITUDE']]\\\n",
    ".rename(columns={'UNIQUECOMPIDNEW': '_COMP_ID2','APPRLATITUDE': '_COMP2_LAT', 'APPRLONGITUDE': '_COMP2_LON'})\n",
    "df_a = df_a.merge(df_temp_11, on='_COMP_ID2', how='left')\n",
    "# comp 3\n",
    "df_temp_11 = uniqueComps[[ \"UNIQUECOMPIDNEW\",'APPRLATITUDE', 'APPRLONGITUDE']]\\\n",
    ".rename(columns={'UNIQUECOMPIDNEW': '_COMP_ID3','APPRLATITUDE': '_COMP3_LAT', 'APPRLONGITUDE': '_COMP3_LON'})\n",
    "df_a = df_a.merge(df_temp_11, on='_COMP_ID3', how='left')"
   ]
  },
  {
   "cell_type": "code",
   "execution_count": null,
   "id": "c182f14c",
   "metadata": {},
   "outputs": [],
   "source": [
    "# convert to radians\n",
    "df_z=df_a[['APPRLATITUDE', 'APPRLONGITUDE',\"_COMP1_LAT\", \"_COMP1_LON\",\"_COMP2_LAT\", \"_COMP2_LON\",\"_COMP3_LAT\", \"_COMP3_LON\"]].apply(np.radians,axis=0)\n",
    "\n",
    "# caluclate distances in km\n",
    "df_z[\"_COMP_1_DISTKM\"] = haversine_distance(df_z['APPRLATITUDE'], df_z['APPRLONGITUDE'], df_z['_COMP1_LAT'], df_z['_COMP1_LON'])/1000\n",
    "df_z[\"_COMP_2_DISTKM\"] = haversine_distance(df_z['APPRLATITUDE'], df_z['APPRLONGITUDE'], df_z['_COMP2_LAT'], df_z['_COMP2_LON'])/1000\n",
    "df_z[\"_COMP_3_DISTKM\"] = haversine_distance(df_z['APPRLATITUDE'], df_z['APPRLONGITUDE'], df_z['_COMP3_LAT'], df_z['_COMP3_LON'])/1000\n",
    "\n",
    "# calculate  mean of all 3 distances\n",
    "df_z[\"_COMP_DISTKM_AVG\"] = np.mean(df_z[['_COMP_1_DISTKM','_COMP_2_DISTKM','_COMP_3_DISTKM']],axis=1)"
   ]
  },
  {
   "cell_type": "code",
   "execution_count": null,
   "id": "84899bf6",
   "metadata": {},
   "outputs": [],
   "source": [
    "# merge with main appraisal df\n",
    "df_a = df_a.merge(df_z[[\"_COMP_1_DISTKM\",\"_COMP_2_DISTKM\",\"_COMP_3_DISTKM\",\"_COMP_DISTKM_AVG\"]], left_index=True, right_index=True, how='left')"
   ]
  },
  {
   "cell_type": "code",
   "execution_count": null,
   "id": "3c66e2e3",
   "metadata": {},
   "outputs": [],
   "source": [
    "\n",
    "\n",
    "data1= df_a[(df_a[\"_COMP_DISTKM_AVG\"]<=100) ] #& (df_a[\"COUNTY\"]==\"COOK\")[(df_a[\"STATE\"]==\"IL\") ]\n",
    "\n",
    "x1=list(np.array(data1[\"_COMP_DISTKM_AVG\"])) \n",
    "y1=list(np.array(data1[\"STATE\"])) \n",
    "hue1=list(np.array(data1[\"CITY\"])) \n",
    "\n",
    "sns.set_theme(style=\"whitegrid\")\n",
    "\n",
    "# Initialize the figure\n",
    "f, ax = plt.subplots()\n",
    "sns.despine(bottom=True, left=True)\n",
    "\n",
    "# Show each observation with a scatterplot\n",
    "sns.stripplot(\n",
    "    data=data1, x=x1, y=y1,\n",
    "    dodge=True, alpha=.25, zorder=1, legend=False\n",
    ")\n",
    "\n",
    "sns.pointplot(\n",
    "    data=data1, x=x1, y=y1,\n",
    "    join=False, dodge=.8 - .8 / 3, palette=\"dark\",\n",
    "    markers=\"d\", scale=.75, errorbar=None).set(title='Average Appr-Comp distance by state (km)')\n",
    "\n"
   ]
  },
  {
   "cell_type": "code",
   "execution_count": null,
   "id": "452e33eb",
   "metadata": {},
   "outputs": [],
   "source": [
    "maximum =max(df_a[\"_COMP_DISTKM_AVG\"])\n",
    "print(maximum)\n",
    "plt.hist(df_a[\"_COMP_DISTKM_AVG\"], edgecolor='black', bins=[10, 20, 30, 40, 50, 60,70,80,90,100])\n"
   ]
  },
  {
   "cell_type": "code",
   "execution_count": null,
   "id": "8e5a8d52",
   "metadata": {},
   "outputs": [],
   "source": [
    "df_a[\"_COMP_DISTKM_AVG\"].shape"
   ]
  },
  {
   "cell_type": "code",
   "execution_count": null,
   "id": "cc61f0be",
   "metadata": {},
   "outputs": [],
   "source": [
    "# calculate percentiles every 0.01% to identify where outliers lie\n",
    "j=0\n",
    "for i in np.round(np.percentile(df_a[\"_COMP_DISTKM_AVG\"], np.arange(0, 100, 0.01)),4):\n",
    "    print(j/100,\"%:\", i)\n",
    "    j+=1"
   ]
  },
  {
   "cell_type": "code",
   "execution_count": null,
   "id": "fbd4f8c6",
   "metadata": {},
   "outputs": [],
   "source": [
    "# Propose to remove outliers with average distance of 0 and above 50km. Being top and bottom 0.03% of comps.\n",
    "# Could even remove more\n",
    "\n",
    "df_a = df_a[~((df_a[\"_COMP_DISTKM_AVG\"]==0) | (df_a[\"_COMP_DISTKM_AVG\"]>=50))]\n",
    "\n"
   ]
  },
  {
   "cell_type": "markdown",
   "id": "c8484ba6",
   "metadata": {},
   "source": [
    "# Look at distance in time"
   ]
  },
  {
   "cell_type": "code",
   "execution_count": null,
   "id": "02ee9619",
   "metadata": {},
   "outputs": [],
   "source": [
    "# comp 1\n",
    "df_temp_11 = uniqueComps[[ \"UNIQUECOMPIDNEW\",'SALEDATE']]\\\n",
    ".rename(columns={'UNIQUECOMPIDNEW': '_COMP_ID1','SALEDATE': '_COMP1_SALEDATE'})\n",
    "df_a = df_a.merge(df_temp_11, on='_COMP_ID1', how='left')\n",
    "# comp 2\n",
    "df_temp_11 = uniqueComps[[ \"UNIQUECOMPIDNEW\",'SALEDATE']]\\\n",
    ".rename(columns={'UNIQUECOMPIDNEW': '_COMP_ID2','SALEDATE': '_COMP2_SALEDATE'})\n",
    "df_a = df_a.merge(df_temp_11, on='_COMP_ID2', how='left')\n",
    "# comp 3\n",
    "df_temp_11 = uniqueComps[[  \"UNIQUECOMPIDNEW\",'SALEDATE']]\\\n",
    ".rename(columns={'UNIQUECOMPIDNEW': '_COMP_ID3','SALEDATE': '_COMP3_SALEDATE'})\n",
    "df_a = df_a.merge(df_temp_11, on='_COMP_ID3', how='left')"
   ]
  },
  {
   "cell_type": "code",
   "execution_count": null,
   "id": "9319e0b6",
   "metadata": {},
   "outputs": [],
   "source": [
    "df_a"
   ]
  },
  {
   "cell_type": "code",
   "execution_count": null,
   "id": "ae0fb6d9",
   "metadata": {},
   "outputs": [],
   "source": [
    "df_z=df_a[['SALEDATE',\"_COMP1_SALEDATE\",\"_COMP2_SALEDATE\",\"_COMP3_SALEDATE\"]]\n",
    "\n",
    "df_z[\"_COMP_1_DISTDAYS\"] = df_a['SALEDATE']-df_a[\"_COMP1_SALEDATE\"]\n",
    "df_z[\"_COMP_2_DISTDAYS\"] = df_a['SALEDATE']-df_a[\"_COMP2_SALEDATE\"]\n",
    "df_z[\"_COMP_3_DISTDAYS\"] = df_a['SALEDATE']-df_a[\"_COMP3_SALEDATE\"]\n",
    "\n",
    "# calculate  mean of all 3 distances\n",
    "df_z[\"_COMP_DISTDAYS_AVG\"] = np.mean(df_z[['_COMP_1_DISTDAYS','_COMP_2_DISTDAYS','_COMP_3_DISTDAYS']],axis=1)\n",
    "df_z"
   ]
  },
  {
   "cell_type": "code",
   "execution_count": null,
   "id": "bb4698a6",
   "metadata": {},
   "outputs": [],
   "source": [
    "# calculate percentiles every 0.01% to identify where outliers lie\n",
    "j=0\n",
    "for i in np.round(np.percentile((df_z[\"_COMP_DISTDAYS_AVG\"]).dt.days, np.arange(0, 100, 0.01)),4):\n",
    "    print(j/100,\"%:\", i)\n",
    "    j+=1"
   ]
  },
  {
   "cell_type": "code",
   "execution_count": null,
   "id": "ebe53f3b",
   "metadata": {},
   "outputs": [],
   "source": [
    "# Remove everyting less than 14 days and more than 2 years. could do more or less than 14 days\n",
    "\n",
    "df_z = df_z[~( (df_z[\"_COMP_DISTDAYS_AVG\"].dt.days<=14)|(df_z[\"_COMP_DISTDAYS_AVG\"].dt.days>= 730) )]"
   ]
  },
  {
   "cell_type": "code",
   "execution_count": null,
   "id": "306e7f72",
   "metadata": {},
   "outputs": [],
   "source": [
    "df_a = df_a.merge(df_z[[\"_COMP1_SALEDATE\",\"_COMP2_SALEDATE\",\"_COMP3_SALEDATE\",\"_COMP_1_DISTDAYS\",\"_COMP_2_DISTDAYS\",\"_COMP_3_DISTDAYS\",\"_COMP_DISTDAYS_AVG\"]], left_index=True, right_index=True, how='right')\n",
    "df_a"
   ]
  },
  {
   "cell_type": "code",
   "execution_count": null,
   "id": "c592c9ea",
   "metadata": {},
   "outputs": [],
   "source": [
    "df_a.to_pickle(\"./OUT_dfs/df_appr_full_processed_nona_no_outliers.pkl\")"
   ]
  },
  {
   "cell_type": "code",
   "execution_count": null,
   "id": "5ffaf506",
   "metadata": {},
   "outputs": [],
   "source": [
    "\n",
    "data1= df_a #& (df_a[\"COUNTY\"]==\"COOK\")[(df_a[\"STATE\"]==\"IL\") ]\n",
    "\n",
    "x1=list(np.array(data1[\"_COMP_DISTDAYS_AVG\"].dt.days)) \n",
    "y1=list(np.array(data1[\"STATE\"])) \n",
    "hue1=list(np.array(data1[\"CITY\"])) \n",
    "\n",
    "sns.set_theme(style=\"whitegrid\")\n",
    "iris = sns.load_dataset(\"iris\")\n",
    "\n",
    "# Initialize the figure\n",
    "f, ax = plt.subplots()\n",
    "sns.despine(bottom=True, left=True)\n",
    "\n",
    "# Show each observation with a scatterplot\n",
    "sns.stripplot(\n",
    "    data=data1, x=x1, y=y1,\n",
    "    dodge=True, alpha=.25, zorder=1, legend=False\n",
    ")\n",
    "\n",
    "sns.pointplot(\n",
    "    data=data1, x=x1, y=y1,\n",
    "    join=False, dodge=.8 - .8 / 3, palette=\"dark\",\n",
    "    markers=\"d\", scale=.75, errorbar=None).set(title='Average Appr-Comp distance by state (in days from appraisal)')"
   ]
  }
 ],
 "metadata": {
  "kernelspec": {
   "display_name": "Python 3 (ipykernel)",
   "language": "python",
   "name": "python3"
  },
  "language_info": {
   "codemirror_mode": {
    "name": "ipython",
    "version": 3
   },
   "file_extension": ".py",
   "mimetype": "text/x-python",
   "name": "python",
   "nbconvert_exporter": "python",
   "pygments_lexer": "ipython3",
   "version": "3.9.7"
  }
 },
 "nbformat": 4,
 "nbformat_minor": 5
}
